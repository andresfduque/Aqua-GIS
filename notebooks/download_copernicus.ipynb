{
 "cells": [
  {
   "cell_type": "code",
   "execution_count": 3,
   "metadata": {
    "tags": []
   },
   "outputs": [],
   "source": [
    "# Main imports\n",
    "import cdsapi\n",
    "\n",
    "# Connect to COPERNICUS client - Follow procedure explained at https://cds.climate.copernicus.eu/api-how-to\n",
    "c = cdsapi.Client()\n"
   ]
  },
  {
   "cell_type": "code",
   "execution_count": 5,
   "metadata": {
    "tags": []
   },
   "outputs": [
    {
     "output_type": "stream",
     "name": "stderr",
     "text": "2020-07-20 08:07:29,578 INFO Welcome to the CDS\n2020-07-20 08:07:29,579 INFO Sending request to https://cds.climate.copernicus.eu/api/v2/resources/reanalysis-era5-land-monthly-means\n2020-07-20 08:07:31,669 INFO Request is queued\n2020-07-20 08:07:34,503 INFO Request is running\n2020-07-20 08:23:56,901 INFO Request is completed\n2020-07-20 08:23:56,902 INFO Downloading http://136.156.132.105/cache-compute-0000/cache/data6/adaptor.mars.internal-1595250452.8964367-21464-25-68d57e7a-41cf-4c6d-b3fe-ec835dce314c.nc to /home/andresd/Documents/Recursos_Hidraulicos/Copernicus_Data/Raw/ERA5_Land_V1.nc (238.2M)\n2020-07-20 08:27:20,478 INFO Download rate 1.2M/s\n"
    },
    {
     "output_type": "execute_result",
     "data": {
      "text/plain": "Result(content_length=249729048,content_type=application/x-netcdf,location=http://136.156.132.105/cache-compute-0000/cache/data6/adaptor.mars.internal-1595250452.8964367-21464-25-68d57e7a-41cf-4c6d-b3fe-ec835dce314c.nc)"
     },
     "metadata": {},
     "execution_count": 5
    }
   ],
   "source": [
    "# DOWNLOAD COPERNICUS ERA 5 LAND DATA - String generated directly from COPERNICUS\n",
    "c.retrieve(\n",
    "    'reanalysis-era5-land-monthly-means',\n",
    "    {\n",
    "        'format': 'netcdf',\n",
    "        'product_type': 'monthly_averaged_reanalysis',\n",
    "        'variable': [\n",
    "            '10m_u_component_of_wind', '10m_v_component_of_wind', '2m_temperature',\n",
    "            'surface_pressure', 'total_evaporation', 'total_precipitation',\n",
    "            '2m_dewpoint_temperature',\n",
    "        ],\n",
    "        'year': [\n",
    "            '1981', '1982', '1983',\n",
    "            '1984', '1985', '1986',\n",
    "            '1987', '1988', '1989',\n",
    "            '1990', '1991', '1992',\n",
    "            '1993', '1994', '1995',\n",
    "            '1996', '1997', '1998',\n",
    "            '1999', '2000', '2001',\n",
    "            '2002', '2003', '2004',\n",
    "            '2005', '2006', '2007',\n",
    "            '2008', '2009', '2010',\n",
    "            '2011', '2012', '2013',\n",
    "            '2014', '2015', '2016',\n",
    "            '2017', '2018', '2019',\n",
    "            '2020',\n",
    "        ],\n",
    "        'month': [\n",
    "            '01', '02', '03',\n",
    "            '04', '05', '06',\n",
    "            '07', '08', '09',\n",
    "            '10', '11', '12',\n",
    "        ],\n",
    "        'time': '00:00',\n",
    "        'area': [\n",
    "            15, -82, -7,\n",
    "            -65,\n",
    "        ],\n",
    "    },\n",
    "    '/home/andresd/Documents/Recursos_Hidraulicos/Copernicus_Data/Raw/ERA5_Land_V1.nc')"
   ]
  },
  {
   "cell_type": "code",
   "execution_count": 6,
   "metadata": {
    "tags": []
   },
   "outputs": [
    {
     "output_type": "stream",
     "name": "stderr",
     "text": "2020-07-20 08:27:21,313 INFO Welcome to the CDS\n2020-07-20 08:27:21,314 INFO Sending request to https://cds.climate.copernicus.eu/api/v2/resources/reanalysis-era5-single-levels-monthly-means\n2020-07-20 08:27:22,261 INFO Request is queued\n2020-07-20 08:27:23,425 INFO Request is running\n2020-07-20 08:35:44,329 INFO Request is completed\n2020-07-20 08:35:44,330 INFO Downloading http://136.156.132.235/cache-compute-0006/cache/data2/adaptor.mars.internal-1595251642.5565598-18185-21-f2c60971-04db-4a1a-8810-4b5043c504c4.nc to /home/andresd/Documents/Recursos_Hidraulicos/Copernicus_Data/Raw/ERA5_Single_Level_V1.nc (116.7M)\n2020-07-20 08:36:31,654 INFO Download rate 2.5M/s\n"
    },
    {
     "output_type": "execute_result",
     "data": {
      "text/plain": "Result(content_length=122334944,content_type=application/x-netcdf,location=http://136.156.132.235/cache-compute-0006/cache/data2/adaptor.mars.internal-1595251642.5565598-18185-21-f2c60971-04db-4a1a-8810-4b5043c504c4.nc)"
     },
     "metadata": {},
     "execution_count": 6
    }
   ],
   "source": [
    "# DOWNLOAD COPERNICUS ERA 5 SINGLE LEVEL DATA - String generated directly from COPERNICUS\n",
    "c.retrieve(\n",
    "    'reanalysis-era5-single-levels-monthly-means',\n",
    "    {\n",
    "        'format': 'netcdf',\n",
    "        'product_type': 'monthly_averaged_reanalysis',\n",
    "        'variable': [\n",
    "            '100m_u_component_of_wind', '100m_v_component_of_wind', '10m_u_component_of_wind',\n",
    "            '10m_v_component_of_wind', '2m_temperature', 'evaporation', '2m_dewpoint_temperature',\n",
    "            'surface_pressure', 'total_cloud_cover', 'total_precipitation',\n",
    "        ],\n",
    "        'year': [\n",
    "            '1979', '1980', '1981',\n",
    "            '1982', '1983', '1984',\n",
    "            '1985', '1986', '1987',\n",
    "            '1988', '1989', '1990',\n",
    "            '1991', '1992', '1993',\n",
    "            '1994', '1995', '1996',\n",
    "            '1997', '1998', '1999',\n",
    "            '2000', '2001', '2002',\n",
    "            '2003', '2004', '2005',\n",
    "            '2006', '2007', '2008',\n",
    "            '2009', '2010', '2011',\n",
    "            '2012', '2013', '2014',\n",
    "            '2015', '2016', '2017',\n",
    "            '2018', '2019', '2020',\n",
    "        ],\n",
    "        'month': [\n",
    "            '01', '02', '03',\n",
    "            '04', '05', '06',\n",
    "            '07', '08', '09',\n",
    "            '10', '11', '12',\n",
    "        ],\n",
    "        'time': '00:00',\n",
    "        'area': [\n",
    "            15, -82, -7,\n",
    "            -65,\n",
    "        ],\n",
    "    },\n",
    "    '/home/andresd/Documents/Recursos_Hidraulicos/Copernicus_Data/Raw/ERA5_Single_Level_V1.nc')"
   ]
  },
  {
   "cell_type": "code",
   "execution_count": null,
   "metadata": {},
   "outputs": [],
   "source": []
  }
 ],
 "metadata": {
  "language_info": {
   "codemirror_mode": {
    "name": "ipython",
    "version": 3
   },
   "file_extension": ".py",
   "mimetype": "text/x-python",
   "name": "python",
   "nbconvert_exporter": "python",
   "pygments_lexer": "ipython3",
   "version": 3
  },
  "orig_nbformat": 2,
  "kernelspec": {
   "name": "python_defaultSpec_1595198553663",
   "display_name": "Python 3.7.7 64-bit ('base': conda)"
  }
 },
 "nbformat": 4,
 "nbformat_minor": 2
}